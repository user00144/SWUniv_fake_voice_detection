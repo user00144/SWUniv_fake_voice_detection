{
 "cells": [
  {
   "cell_type": "code",
   "execution_count": 1,
   "id": "0dd41b5b-7bc5-4d3a-aba8-e61a08f7ebd2",
   "metadata": {
    "execution": {
     "iopub.execute_input": "2024-07-10T05:50:06.930224Z",
     "iopub.status.busy": "2024-07-10T05:50:06.928872Z",
     "iopub.status.idle": "2024-07-10T05:50:08.868121Z",
     "shell.execute_reply": "2024-07-10T05:50:08.867263Z",
     "shell.execute_reply.started": "2024-07-10T05:50:06.930156Z"
    }
   },
   "outputs": [],
   "source": [
    "import pandas as pd\n",
    "\n",
    "sub = pd.read_csv(\"submit.csv\")\n",
    "sub['fake'] = sub['fake'].round()\n",
    "sub['real'] = sub['real'].round()\n"
   ]
  },
  {
   "cell_type": "code",
   "execution_count": 2,
   "id": "c0abe747-bf88-4145-8401-0328764cf6f5",
   "metadata": {
    "execution": {
     "iopub.execute_input": "2024-07-10T05:50:12.621089Z",
     "iopub.status.busy": "2024-07-10T05:50:12.620637Z",
     "iopub.status.idle": "2024-07-10T05:50:12.702064Z",
     "shell.execute_reply": "2024-07-10T05:50:12.700701Z",
     "shell.execute_reply.started": "2024-07-10T05:50:12.621066Z"
    }
   },
   "outputs": [
    {
     "data": {
      "text/html": [
       "<div>\n",
       "<style scoped>\n",
       "    .dataframe tbody tr th:only-of-type {\n",
       "        vertical-align: middle;\n",
       "    }\n",
       "\n",
       "    .dataframe tbody tr th {\n",
       "        vertical-align: top;\n",
       "    }\n",
       "\n",
       "    .dataframe thead th {\n",
       "        text-align: right;\n",
       "    }\n",
       "</style>\n",
       "<table border=\"1\" class=\"dataframe\">\n",
       "  <thead>\n",
       "    <tr style=\"text-align: right;\">\n",
       "      <th></th>\n",
       "      <th>id</th>\n",
       "      <th>fake</th>\n",
       "      <th>real</th>\n",
       "    </tr>\n",
       "  </thead>\n",
       "  <tbody>\n",
       "    <tr>\n",
       "      <th>0</th>\n",
       "      <td>TEST_00000</td>\n",
       "      <td>0.0</td>\n",
       "      <td>1.0</td>\n",
       "    </tr>\n",
       "    <tr>\n",
       "      <th>1</th>\n",
       "      <td>TEST_00001</td>\n",
       "      <td>0.0</td>\n",
       "      <td>1.0</td>\n",
       "    </tr>\n",
       "    <tr>\n",
       "      <th>2</th>\n",
       "      <td>TEST_00002</td>\n",
       "      <td>0.0</td>\n",
       "      <td>1.0</td>\n",
       "    </tr>\n",
       "    <tr>\n",
       "      <th>3</th>\n",
       "      <td>TEST_00003</td>\n",
       "      <td>0.0</td>\n",
       "      <td>1.0</td>\n",
       "    </tr>\n",
       "    <tr>\n",
       "      <th>4</th>\n",
       "      <td>TEST_00004</td>\n",
       "      <td>0.0</td>\n",
       "      <td>1.0</td>\n",
       "    </tr>\n",
       "    <tr>\n",
       "      <th>...</th>\n",
       "      <td>...</td>\n",
       "      <td>...</td>\n",
       "      <td>...</td>\n",
       "    </tr>\n",
       "    <tr>\n",
       "      <th>49995</th>\n",
       "      <td>TEST_49995</td>\n",
       "      <td>0.0</td>\n",
       "      <td>1.0</td>\n",
       "    </tr>\n",
       "    <tr>\n",
       "      <th>49996</th>\n",
       "      <td>TEST_49996</td>\n",
       "      <td>0.0</td>\n",
       "      <td>1.0</td>\n",
       "    </tr>\n",
       "    <tr>\n",
       "      <th>49997</th>\n",
       "      <td>TEST_49997</td>\n",
       "      <td>0.0</td>\n",
       "      <td>1.0</td>\n",
       "    </tr>\n",
       "    <tr>\n",
       "      <th>49998</th>\n",
       "      <td>TEST_49998</td>\n",
       "      <td>0.0</td>\n",
       "      <td>1.0</td>\n",
       "    </tr>\n",
       "    <tr>\n",
       "      <th>49999</th>\n",
       "      <td>TEST_49999</td>\n",
       "      <td>0.0</td>\n",
       "      <td>1.0</td>\n",
       "    </tr>\n",
       "  </tbody>\n",
       "</table>\n",
       "<p>50000 rows × 3 columns</p>\n",
       "</div>"
      ],
      "text/plain": [
       "               id  fake  real\n",
       "0      TEST_00000   0.0   1.0\n",
       "1      TEST_00001   0.0   1.0\n",
       "2      TEST_00002   0.0   1.0\n",
       "3      TEST_00003   0.0   1.0\n",
       "4      TEST_00004   0.0   1.0\n",
       "...           ...   ...   ...\n",
       "49995  TEST_49995   0.0   1.0\n",
       "49996  TEST_49996   0.0   1.0\n",
       "49997  TEST_49997   0.0   1.0\n",
       "49998  TEST_49998   0.0   1.0\n",
       "49999  TEST_49999   0.0   1.0\n",
       "\n",
       "[50000 rows x 3 columns]"
      ]
     },
     "execution_count": 2,
     "metadata": {},
     "output_type": "execute_result"
    }
   ],
   "source": [
    "sub.to_csv(\"sub_round.csv\", index=False)"
   ]
  }
 ],
 "metadata": {
  "kernelspec": {
   "display_name": "Python 3 (ipykernel)",
   "language": "python",
   "name": "python3"
  },
  "language_info": {
   "codemirror_mode": {
    "name": "ipython",
    "version": 3
   },
   "file_extension": ".py",
   "mimetype": "text/x-python",
   "name": "python",
   "nbconvert_exporter": "python",
   "pygments_lexer": "ipython3",
   "version": "3.10.12"
  }
 },
 "nbformat": 4,
 "nbformat_minor": 5
}
