{
 "cells": [
  {
   "cell_type": "code",
   "execution_count": 1,
   "id": "256a7286-a32e-4e11-9e44-b729c2099114",
   "metadata": {
    "execution": {
     "iopub.execute_input": "2024-07-02T07:30:53.623593Z",
     "iopub.status.busy": "2024-07-02T07:30:53.622808Z",
     "iopub.status.idle": "2024-07-02T07:30:55.914283Z",
     "shell.execute_reply": "2024-07-02T07:30:55.913533Z",
     "shell.execute_reply.started": "2024-07-02T07:30:53.623541Z"
    }
   },
   "outputs": [],
   "source": [
    "import librosa\n",
    "\n",
    "from sklearn.model_selection import train_test_split\n",
    "import numpy as np\n",
    "import pandas as pd\n",
    "import random\n",
    "\n",
    "from torch import nn\n",
    "import torch.nn.functional as F\n",
    "from torch.utils.data import Dataset, DataLoader\n",
    "from tqdm import tqdm\n",
    "\n",
    "import torch\n",
    "import os\n",
    "\n",
    "import warnings\n",
    "warnings.filterwarnings('ignore')\n",
    "\n",
    "device = torch.device('cuda') if torch.cuda.is_available() else torch.device('cpu')"
   ]
  },
  {
   "cell_type": "code",
   "execution_count": 2,
   "id": "20aab895-a58d-408f-a79c-595c309d7b86",
   "metadata": {
    "execution": {
     "iopub.execute_input": "2024-07-02T07:30:55.915571Z",
     "iopub.status.busy": "2024-07-02T07:30:55.915234Z",
     "iopub.status.idle": "2024-07-02T07:30:55.919464Z",
     "shell.execute_reply": "2024-07-02T07:30:55.918865Z",
     "shell.execute_reply.started": "2024-07-02T07:30:55.915549Z"
    }
   },
   "outputs": [],
   "source": [
    "class Config:\n",
    "    SR = 32000\n",
    "    RESAMPLE_SR = 16000\n",
    "    MAX_LEN = 2048\n",
    "    # Dataset\n",
    "    ROOT_FOLDER = './data'\n",
    "    # Training\n",
    "    N_CLASSES = 2\n",
    "    BATCH_SIZE = 96\n",
    "    N_EPOCHS = 5\n",
    "    #LR = 3e-4\n",
    "    # Others\n",
    "    SEED = 42\n",
    "    \n",
    "CONFIG = Config()"
   ]
  },
  {
   "cell_type": "code",
   "execution_count": 3,
   "id": "5fe4c5b3-250b-4046-a90e-49c1aa1a4926",
   "metadata": {
    "execution": {
     "iopub.execute_input": "2024-07-02T07:30:55.920696Z",
     "iopub.status.busy": "2024-07-02T07:30:55.920267Z",
     "iopub.status.idle": "2024-07-02T07:30:55.944097Z",
     "shell.execute_reply": "2024-07-02T07:30:55.943513Z",
     "shell.execute_reply.started": "2024-07-02T07:30:55.920675Z"
    }
   },
   "outputs": [],
   "source": [
    "def seed_everything(seed):\n",
    "    random.seed(seed)\n",
    "    os.environ['PYTHONHASHSEED'] = str(seed)\n",
    "    np.random.seed(seed)\n",
    "    torch.manual_seed(seed)\n",
    "    torch.cuda.manual_seed(seed)\n",
    "    torch.backends.cudnn.deterministic = True\n",
    "    torch.backends.cudnn.benchmark = True\n",
    "\n",
    "seed_everything(CONFIG.SEED) # Seed 고정"
   ]
  },
  {
   "cell_type": "code",
   "execution_count": 4,
   "id": "240b3442-7c63-4c05-8d75-d65c6120d572",
   "metadata": {
    "execution": {
     "iopub.execute_input": "2024-07-02T07:30:55.945281Z",
     "iopub.status.busy": "2024-07-02T07:30:55.944876Z",
     "iopub.status.idle": "2024-07-02T07:30:56.051938Z",
     "shell.execute_reply": "2024-07-02T07:30:56.051058Z",
     "shell.execute_reply.started": "2024-07-02T07:30:55.945261Z"
    }
   },
   "outputs": [],
   "source": [
    "train_df = pd.read_csv(os.path.join(CONFIG.ROOT_FOLDER, 'train.csv'))\n",
    "test_df = pd.read_csv(os.path.join(CONFIG.ROOT_FOLDER, 'test.csv'))"
   ]
  },
  {
   "cell_type": "code",
   "execution_count": 5,
   "id": "1ed30413-bf7d-485c-9982-838c5c6796b8",
   "metadata": {
    "execution": {
     "iopub.execute_input": "2024-07-02T07:30:56.053213Z",
     "iopub.status.busy": "2024-07-02T07:30:56.052880Z",
     "iopub.status.idle": "2024-07-02T07:30:56.066039Z",
     "shell.execute_reply": "2024-07-02T07:30:56.065430Z",
     "shell.execute_reply.started": "2024-07-02T07:30:56.053191Z"
    }
   },
   "outputs": [
    {
     "data": {
      "text/html": [
       "<div>\n",
       "<style scoped>\n",
       "    .dataframe tbody tr th:only-of-type {\n",
       "        vertical-align: middle;\n",
       "    }\n",
       "\n",
       "    .dataframe tbody tr th {\n",
       "        vertical-align: top;\n",
       "    }\n",
       "\n",
       "    .dataframe thead th {\n",
       "        text-align: right;\n",
       "    }\n",
       "</style>\n",
       "<table border=\"1\" class=\"dataframe\">\n",
       "  <thead>\n",
       "    <tr style=\"text-align: right;\">\n",
       "      <th></th>\n",
       "      <th>id</th>\n",
       "      <th>path</th>\n",
       "      <th>label</th>\n",
       "    </tr>\n",
       "  </thead>\n",
       "  <tbody>\n",
       "    <tr>\n",
       "      <th>0</th>\n",
       "      <td>RUNQPNJF</td>\n",
       "      <td>./train/RUNQPNJF.ogg</td>\n",
       "      <td>real</td>\n",
       "    </tr>\n",
       "    <tr>\n",
       "      <th>1</th>\n",
       "      <td>JFAWUOGJ</td>\n",
       "      <td>./train/JFAWUOGJ.ogg</td>\n",
       "      <td>fake</td>\n",
       "    </tr>\n",
       "    <tr>\n",
       "      <th>2</th>\n",
       "      <td>RDKEKEVX</td>\n",
       "      <td>./train/RDKEKEVX.ogg</td>\n",
       "      <td>real</td>\n",
       "    </tr>\n",
       "    <tr>\n",
       "      <th>3</th>\n",
       "      <td>QYHJDOFK</td>\n",
       "      <td>./train/QYHJDOFK.ogg</td>\n",
       "      <td>real</td>\n",
       "    </tr>\n",
       "    <tr>\n",
       "      <th>4</th>\n",
       "      <td>RSPQNHAO</td>\n",
       "      <td>./train/RSPQNHAO.ogg</td>\n",
       "      <td>real</td>\n",
       "    </tr>\n",
       "    <tr>\n",
       "      <th>...</th>\n",
       "      <td>...</td>\n",
       "      <td>...</td>\n",
       "      <td>...</td>\n",
       "    </tr>\n",
       "    <tr>\n",
       "      <th>55433</th>\n",
       "      <td>NJGPMAJL</td>\n",
       "      <td>./train/NJGPMAJL.ogg</td>\n",
       "      <td>real</td>\n",
       "    </tr>\n",
       "    <tr>\n",
       "      <th>55434</th>\n",
       "      <td>SZXIACUZ</td>\n",
       "      <td>./train/SZXIACUZ.ogg</td>\n",
       "      <td>fake</td>\n",
       "    </tr>\n",
       "    <tr>\n",
       "      <th>55435</th>\n",
       "      <td>PXLBTGRH</td>\n",
       "      <td>./train/PXLBTGRH.ogg</td>\n",
       "      <td>fake</td>\n",
       "    </tr>\n",
       "    <tr>\n",
       "      <th>55436</th>\n",
       "      <td>CGGQGPOQ</td>\n",
       "      <td>./train/CGGQGPOQ.ogg</td>\n",
       "      <td>fake</td>\n",
       "    </tr>\n",
       "    <tr>\n",
       "      <th>55437</th>\n",
       "      <td>CPMKEDIS</td>\n",
       "      <td>./train/CPMKEDIS.ogg</td>\n",
       "      <td>fake</td>\n",
       "    </tr>\n",
       "  </tbody>\n",
       "</table>\n",
       "<p>55438 rows × 3 columns</p>\n",
       "</div>"
      ],
      "text/plain": [
       "             id                  path label\n",
       "0      RUNQPNJF  ./train/RUNQPNJF.ogg  real\n",
       "1      JFAWUOGJ  ./train/JFAWUOGJ.ogg  fake\n",
       "2      RDKEKEVX  ./train/RDKEKEVX.ogg  real\n",
       "3      QYHJDOFK  ./train/QYHJDOFK.ogg  real\n",
       "4      RSPQNHAO  ./train/RSPQNHAO.ogg  real\n",
       "...         ...                   ...   ...\n",
       "55433  NJGPMAJL  ./train/NJGPMAJL.ogg  real\n",
       "55434  SZXIACUZ  ./train/SZXIACUZ.ogg  fake\n",
       "55435  PXLBTGRH  ./train/PXLBTGRH.ogg  fake\n",
       "55436  CGGQGPOQ  ./train/CGGQGPOQ.ogg  fake\n",
       "55437  CPMKEDIS  ./train/CPMKEDIS.ogg  fake\n",
       "\n",
       "[55438 rows x 3 columns]"
      ]
     },
     "execution_count": 5,
     "metadata": {},
     "output_type": "execute_result"
    }
   ],
   "source": [
    "train_df"
   ]
  },
  {
   "cell_type": "code",
   "execution_count": 6,
   "id": "45208625-8e5a-4855-a3b7-73cb0c382a9e",
   "metadata": {
    "execution": {
     "iopub.execute_input": "2024-07-02T07:30:56.068715Z",
     "iopub.status.busy": "2024-07-02T07:30:56.068234Z",
     "iopub.status.idle": "2024-07-02T07:30:56.076156Z",
     "shell.execute_reply": "2024-07-02T07:30:56.075579Z",
     "shell.execute_reply.started": "2024-07-02T07:30:56.068693Z"
    }
   },
   "outputs": [
    {
     "data": {
      "text/html": [
       "<div>\n",
       "<style scoped>\n",
       "    .dataframe tbody tr th:only-of-type {\n",
       "        vertical-align: middle;\n",
       "    }\n",
       "\n",
       "    .dataframe tbody tr th {\n",
       "        vertical-align: top;\n",
       "    }\n",
       "\n",
       "    .dataframe thead th {\n",
       "        text-align: right;\n",
       "    }\n",
       "</style>\n",
       "<table border=\"1\" class=\"dataframe\">\n",
       "  <thead>\n",
       "    <tr style=\"text-align: right;\">\n",
       "      <th></th>\n",
       "      <th>id</th>\n",
       "      <th>path</th>\n",
       "    </tr>\n",
       "  </thead>\n",
       "  <tbody>\n",
       "    <tr>\n",
       "      <th>0</th>\n",
       "      <td>TEST_00000</td>\n",
       "      <td>./test/TEST_00000.ogg</td>\n",
       "    </tr>\n",
       "    <tr>\n",
       "      <th>1</th>\n",
       "      <td>TEST_00001</td>\n",
       "      <td>./test/TEST_00001.ogg</td>\n",
       "    </tr>\n",
       "    <tr>\n",
       "      <th>2</th>\n",
       "      <td>TEST_00002</td>\n",
       "      <td>./test/TEST_00002.ogg</td>\n",
       "    </tr>\n",
       "    <tr>\n",
       "      <th>3</th>\n",
       "      <td>TEST_00003</td>\n",
       "      <td>./test/TEST_00003.ogg</td>\n",
       "    </tr>\n",
       "    <tr>\n",
       "      <th>4</th>\n",
       "      <td>TEST_00004</td>\n",
       "      <td>./test/TEST_00004.ogg</td>\n",
       "    </tr>\n",
       "    <tr>\n",
       "      <th>...</th>\n",
       "      <td>...</td>\n",
       "      <td>...</td>\n",
       "    </tr>\n",
       "    <tr>\n",
       "      <th>49995</th>\n",
       "      <td>TEST_49995</td>\n",
       "      <td>./test/TEST_49995.ogg</td>\n",
       "    </tr>\n",
       "    <tr>\n",
       "      <th>49996</th>\n",
       "      <td>TEST_49996</td>\n",
       "      <td>./test/TEST_49996.ogg</td>\n",
       "    </tr>\n",
       "    <tr>\n",
       "      <th>49997</th>\n",
       "      <td>TEST_49997</td>\n",
       "      <td>./test/TEST_49997.ogg</td>\n",
       "    </tr>\n",
       "    <tr>\n",
       "      <th>49998</th>\n",
       "      <td>TEST_49998</td>\n",
       "      <td>./test/TEST_49998.ogg</td>\n",
       "    </tr>\n",
       "    <tr>\n",
       "      <th>49999</th>\n",
       "      <td>TEST_49999</td>\n",
       "      <td>./test/TEST_49999.ogg</td>\n",
       "    </tr>\n",
       "  </tbody>\n",
       "</table>\n",
       "<p>50000 rows × 2 columns</p>\n",
       "</div>"
      ],
      "text/plain": [
       "               id                   path\n",
       "0      TEST_00000  ./test/TEST_00000.ogg\n",
       "1      TEST_00001  ./test/TEST_00001.ogg\n",
       "2      TEST_00002  ./test/TEST_00002.ogg\n",
       "3      TEST_00003  ./test/TEST_00003.ogg\n",
       "4      TEST_00004  ./test/TEST_00004.ogg\n",
       "...           ...                    ...\n",
       "49995  TEST_49995  ./test/TEST_49995.ogg\n",
       "49996  TEST_49996  ./test/TEST_49996.ogg\n",
       "49997  TEST_49997  ./test/TEST_49997.ogg\n",
       "49998  TEST_49998  ./test/TEST_49998.ogg\n",
       "49999  TEST_49999  ./test/TEST_49999.ogg\n",
       "\n",
       "[50000 rows x 2 columns]"
      ]
     },
     "execution_count": 6,
     "metadata": {},
     "output_type": "execute_result"
    }
   ],
   "source": [
    "test_df"
   ]
  },
  {
   "cell_type": "code",
   "execution_count": 7,
   "id": "6ee4d832-4414-46de-939f-d6f3acc014b2",
   "metadata": {
    "execution": {
     "iopub.execute_input": "2024-07-02T07:30:56.077443Z",
     "iopub.status.busy": "2024-07-02T07:30:56.076946Z",
     "iopub.status.idle": "2024-07-02T07:31:06.186882Z",
     "shell.execute_reply": "2024-07-02T07:31:06.186050Z",
     "shell.execute_reply.started": "2024-07-02T07:30:56.077423Z"
    }
   },
   "outputs": [],
   "source": [
    "from transformers import Wav2Vec2FeatureExtractor, Wav2Vec2Model\n",
    "\n",
    "class CustomDataset(Dataset) :\n",
    "    def __init__(self, df, max_len, is_train) :\n",
    "        self.df = df\n",
    "        self.feature_extractor = Wav2Vec2FeatureExtractor.from_pretrained(\"facebook/wav2vec2-base\")\n",
    "        self.max_len = max_len\n",
    "        self.is_train = is_train\n",
    "\n",
    "    def __getitem__(self, idx) :\n",
    "        path = self.df.iloc[idx].path\n",
    "        if self.is_train :\n",
    "            label = self.df.iloc[idx].label\n",
    "            label_vector = np.zeros(CONFIG.N_CLASSES, dtype=float)\n",
    "            label_vector[0 if label == 'fake' else 1] = 1\n",
    "            data = self.load_data(path).squeeze()\n",
    "            return data, label_vector\n",
    "        return self.load_data(path)\n",
    "\n",
    "    def load_data(self, path) :\n",
    "        y, sr = librosa.load(os.path.join(CONFIG.ROOT_FOLDER, path ), sr=CONFIG.SR)\n",
    "        y = librosa.resample(y, orig_sr = sr, target_sr = CONFIG.RESAMPLE_SR)\n",
    "        feat = self.feature_extractor(y, sampling_rate=CONFIG.RESAMPLE_SR, max_length=self.max_len, truncation=True, padding='max_length', return_tensors=\"pt\")\n",
    "        return feat.input_values\n",
    "        \n",
    "    def __len__(self) :\n",
    "        return len(self.df)"
   ]
  },
  {
   "cell_type": "code",
   "execution_count": 8,
   "id": "89b6bc87-1b86-407c-9d1a-e110f05a8548",
   "metadata": {
    "execution": {
     "iopub.execute_input": "2024-07-02T07:31:06.188511Z",
     "iopub.status.busy": "2024-07-02T07:31:06.188029Z",
     "iopub.status.idle": "2024-07-02T07:31:06.194200Z",
     "shell.execute_reply": "2024-07-02T07:31:06.193616Z",
     "shell.execute_reply.started": "2024-07-02T07:31:06.188485Z"
    }
   },
   "outputs": [],
   "source": [
    "class CustomModel(nn.Module) :\n",
    "    def __init__(self) :\n",
    "        super().__init__()\n",
    "        self.hidden_len = 128\n",
    "        self.classifier = nn.Sequential(nn.Linear(1024, 512), nn.ReLU(), nn.Dropout(0.3), nn.Linear(512, 256), nn.ReLU(), nn.Dropout(0.3), nn.Linear(256, self.hidden_len), nn.ReLU(), nn.Dropout(0.3))\n",
    "        self.classification_head = nn.Linear(self.hidden_len,2)\n",
    "\n",
    "    def forward(self, x) :\n",
    "        x = self.classifier(x)\n",
    "        x = self.classification_head(x)\n",
    "        x = torch.sigmoid(x)\n",
    "        return x"
   ]
  },
  {
   "cell_type": "code",
   "execution_count": 9,
   "id": "147c26a7-fbe5-42d4-a185-20aa0ee71c62",
   "metadata": {
    "execution": {
     "iopub.execute_input": "2024-07-02T07:31:06.195337Z",
     "iopub.status.busy": "2024-07-02T07:31:06.195114Z",
     "iopub.status.idle": "2024-07-02T07:31:06.997533Z",
     "shell.execute_reply": "2024-07-02T07:31:06.996384Z",
     "shell.execute_reply.started": "2024-07-02T07:31:06.195318Z"
    }
   },
   "outputs": [],
   "source": [
    "train, val = train_test_split(train_df, test_size=0.2, random_state=CONFIG.SEED)\n",
    "\n",
    "train_dataset = CustomDataset(train, max_len = 1024, is_train = True)\n",
    "val_dataset = CustomDataset(val, max_len = 1024, is_train = True)\n",
    "test_dataset = CustomDataset(test_df, max_len = 1024, is_train = False)\n",
    "\n",
    "train_dataloader = DataLoader(train_dataset, shuffle=True, batch_size=CONFIG.BATCH_SIZE, num_workers = 4)\n",
    "val_dataloader = DataLoader(val_dataset, shuffle=True, batch_size=CONFIG.BATCH_SIZE, num_workers = 4)\n",
    "test_dataloader = DataLoader(test_dataset, shuffle=False, batch_size=CONFIG.BATCH_SIZE, num_workers = 4)"
   ]
  },
  {
   "cell_type": "code",
   "execution_count": 10,
   "id": "de1f3658-7d94-4d9f-8156-a22815d8cf8b",
   "metadata": {
    "execution": {
     "iopub.execute_input": "2024-07-02T07:31:06.999715Z",
     "iopub.status.busy": "2024-07-02T07:31:06.999176Z",
     "iopub.status.idle": "2024-07-02T07:31:07.018521Z",
     "shell.execute_reply": "2024-07-02T07:31:07.016844Z",
     "shell.execute_reply.started": "2024-07-02T07:31:06.999680Z"
    }
   },
   "outputs": [],
   "source": [
    "from sklearn.metrics import roc_auc_score\n",
    "\n",
    "def train(model, optimizer, train_loader, val_loader, device):\n",
    "    model.to(device)\n",
    "    criterion = nn.BCELoss().to(device)\n",
    "    \n",
    "    best_val_score = 0\n",
    "    best_model = None\n",
    "    \n",
    "    for epoch in range(1, CONFIG.N_EPOCHS+1):\n",
    "        model.train()\n",
    "        train_loss = []\n",
    "        for features, labels in tqdm(iter(train_loader)):\n",
    "            features = features.float().to(device)\n",
    "            labels = labels.float().to(device)\n",
    "\n",
    "            optimizer.zero_grad()\n",
    "            \n",
    "            output = model(features)\n",
    "            loss = criterion(output, labels)\n",
    "            \n",
    "            loss.backward()\n",
    "            optimizer.step()\n",
    "            \n",
    "            train_loss.append(loss.item())\n",
    "                    \n",
    "        _val_loss, _val_score = validation(model, criterion, val_loader, device)\n",
    "        _train_loss = np.mean(train_loss)\n",
    "        print(f'Epoch [{epoch}], Train Loss : [{_train_loss:.5f}] Val Loss : [{_val_loss:.5f}] Val AUC : [{_val_score:.5f}]')\n",
    "            \n",
    "        if best_val_score < _val_score:\n",
    "            best_val_score = _val_score\n",
    "            torch.save(model, './best.pt')\n",
    "    \n",
    "\n",
    "def multiLabel_AUC(y_true, y_scores):\n",
    "    auc_scores = []\n",
    "    for i in range(y_true.shape[1]):\n",
    "        auc = roc_auc_score(y_true[:, i], y_scores[:, i])\n",
    "        auc_scores.append(auc)\n",
    "    mean_auc_score = np.mean(auc_scores)\n",
    "    return mean_auc_score\n",
    "    \n",
    "def validation(model, criterion, val_loader, device):\n",
    "    model.eval()\n",
    "    val_loss, all_labels, all_probs = [], [], []\n",
    "    \n",
    "    with torch.no_grad():\n",
    "        for features, labels in tqdm(iter(val_loader)):\n",
    "            features = features.float().to(device)\n",
    "            labels = labels.float().to(device)\n",
    "            \n",
    "            probs = model(features)\n",
    "            \n",
    "            loss = criterion(probs, labels)\n",
    "\n",
    "            val_loss.append(loss.item())\n",
    "\n",
    "            all_labels.append(labels.cpu().numpy())\n",
    "            all_probs.append(probs.cpu().numpy())\n",
    "        \n",
    "        _val_loss = np.mean(val_loss)\n",
    "\n",
    "        all_labels = np.concatenate(all_labels, axis=0)\n",
    "        all_probs = np.concatenate(all_probs, axis=0)\n",
    "        \n",
    "        # Calculate AUC score\n",
    "        auc_score = multiLabel_AUC(all_labels, all_probs)\n",
    "    \n",
    "    return _val_loss, auc_score"
   ]
  },
  {
   "cell_type": "code",
   "execution_count": 11,
   "id": "3b207a42-1985-44c5-96d9-968e0efef39d",
   "metadata": {
    "execution": {
     "iopub.execute_input": "2024-07-02T07:31:07.021568Z",
     "iopub.status.busy": "2024-07-02T07:31:07.020666Z",
     "iopub.status.idle": "2024-07-02T07:38:03.705536Z",
     "shell.execute_reply": "2024-07-02T07:38:03.704569Z",
     "shell.execute_reply.started": "2024-07-02T07:31:07.021516Z"
    }
   },
   "outputs": [
    {
     "name": "stderr",
     "output_type": "stream",
     "text": [
      "100%|██████████| 462/462 [01:04<00:00,  7.13it/s]\n",
      "100%|██████████| 116/116 [00:17<00:00,  6.66it/s]"
     ]
    },
    {
     "name": "stdout",
     "output_type": "stream",
     "text": [
      "Epoch [1], Train Loss : [0.69274] Val Loss : [0.69026] Val AUC : [0.61360]\n"
     ]
    },
    {
     "name": "stderr",
     "output_type": "stream",
     "text": [
      "\n",
      "100%|██████████| 462/462 [01:05<00:00,  7.03it/s]\n",
      "100%|██████████| 116/116 [00:17<00:00,  6.80it/s]"
     ]
    },
    {
     "name": "stdout",
     "output_type": "stream",
     "text": [
      "Epoch [2], Train Loss : [0.68884] Val Loss : [0.68498] Val AUC : [0.67586]\n"
     ]
    },
    {
     "name": "stderr",
     "output_type": "stream",
     "text": [
      "\n",
      "100%|██████████| 462/462 [01:05<00:00,  7.04it/s]\n",
      "100%|██████████| 116/116 [00:17<00:00,  6.74it/s]"
     ]
    },
    {
     "name": "stdout",
     "output_type": "stream",
     "text": [
      "Epoch [3], Train Loss : [0.68136] Val Loss : [0.67208] Val AUC : [0.69966]\n"
     ]
    },
    {
     "name": "stderr",
     "output_type": "stream",
     "text": [
      "\n",
      "100%|██████████| 462/462 [01:05<00:00,  7.00it/s]\n",
      "100%|██████████| 116/116 [00:17<00:00,  6.69it/s]"
     ]
    },
    {
     "name": "stdout",
     "output_type": "stream",
     "text": [
      "Epoch [4], Train Loss : [0.66262] Val Loss : [0.64490] Val AUC : [0.71989]\n"
     ]
    },
    {
     "name": "stderr",
     "output_type": "stream",
     "text": [
      "\n",
      "100%|██████████| 462/462 [01:06<00:00,  6.94it/s]\n",
      "100%|██████████| 116/116 [00:17<00:00,  6.61it/s]"
     ]
    },
    {
     "name": "stdout",
     "output_type": "stream",
     "text": [
      "Epoch [5], Train Loss : [0.63034] Val Loss : [0.61065] Val AUC : [0.74345]\n"
     ]
    },
    {
     "name": "stderr",
     "output_type": "stream",
     "text": [
      "\n"
     ]
    }
   ],
   "source": [
    "from transformers.optimization import get_cosine_schedule_with_warmup\n",
    "\n",
    "model = CustomModel()\n",
    "optimizer = torch.optim.Adam(params = model.parameters(), lr = 0.00001)\n",
    "\n",
    "train(model, optimizer, train_dataloader, val_dataloader, device)"
   ]
  },
  {
   "cell_type": "code",
   "execution_count": 12,
   "id": "73049e2e-a62a-4bdf-95a1-f729eacb7db6",
   "metadata": {
    "execution": {
     "iopub.execute_input": "2024-07-02T07:38:03.707331Z",
     "iopub.status.busy": "2024-07-02T07:38:03.707018Z",
     "iopub.status.idle": "2024-07-02T07:38:03.712964Z",
     "shell.execute_reply": "2024-07-02T07:38:03.712283Z",
     "shell.execute_reply.started": "2024-07-02T07:38:03.707308Z"
    }
   },
   "outputs": [],
   "source": [
    "def inference(model, test_loader, device):\n",
    "    model.to(device)\n",
    "    model.eval()\n",
    "    predictions = []\n",
    "    with torch.no_grad():\n",
    "        for features in tqdm(iter(test_loader)):\n",
    "            features = features.float().to(device)\n",
    "            \n",
    "            probs = model(features)\n",
    "\n",
    "            probs  = probs.cpu().detach().numpy()\n",
    "            predictions.extend(probs.tolist())\n",
    "    return predictions"
   ]
  },
  {
   "cell_type": "code",
   "execution_count": 13,
   "id": "351977f3-f2c7-4134-9158-2e5d28badad0",
   "metadata": {
    "execution": {
     "iopub.execute_input": "2024-07-02T07:38:03.713959Z",
     "iopub.status.busy": "2024-07-02T07:38:03.713734Z",
     "iopub.status.idle": "2024-07-02T07:39:46.492473Z",
     "shell.execute_reply": "2024-07-02T07:39:46.491223Z",
     "shell.execute_reply.started": "2024-07-02T07:38:03.713940Z"
    }
   },
   "outputs": [
    {
     "name": "stderr",
     "output_type": "stream",
     "text": [
      "100%|██████████| 521/521 [01:42<00:00,  5.07it/s]\n"
     ]
    }
   ],
   "source": [
    "infer_model = torch.load('./best.pt')\n",
    "preds = inference(infer_model, test_dataloader, device)"
   ]
  },
  {
   "cell_type": "code",
   "execution_count": 14,
   "id": "05badd29-7f9e-43e6-bf7b-3afe57b8f4c4",
   "metadata": {
    "execution": {
     "iopub.execute_input": "2024-07-02T07:39:46.494103Z",
     "iopub.status.busy": "2024-07-02T07:39:46.493826Z",
     "iopub.status.idle": "2024-07-02T07:39:46.509179Z",
     "shell.execute_reply": "2024-07-02T07:39:46.507923Z",
     "shell.execute_reply.started": "2024-07-02T07:39:46.494081Z"
    }
   },
   "outputs": [],
   "source": [
    "for i in range(len(preds)) :\n",
    "    preds[i] = preds[i][0]"
   ]
  },
  {
   "cell_type": "code",
   "execution_count": 15,
   "id": "9a3c3406-b9be-4b74-a566-5d0570d4d392",
   "metadata": {
    "execution": {
     "iopub.execute_input": "2024-07-02T07:39:46.510562Z",
     "iopub.status.busy": "2024-07-02T07:39:46.510306Z",
     "iopub.status.idle": "2024-07-02T07:39:46.538474Z",
     "shell.execute_reply": "2024-07-02T07:39:46.537501Z",
     "shell.execute_reply.started": "2024-07-02T07:39:46.510541Z"
    }
   },
   "outputs": [
    {
     "data": {
      "text/html": [
       "<div>\n",
       "<style scoped>\n",
       "    .dataframe tbody tr th:only-of-type {\n",
       "        vertical-align: middle;\n",
       "    }\n",
       "\n",
       "    .dataframe tbody tr th {\n",
       "        vertical-align: top;\n",
       "    }\n",
       "\n",
       "    .dataframe thead th {\n",
       "        text-align: right;\n",
       "    }\n",
       "</style>\n",
       "<table border=\"1\" class=\"dataframe\">\n",
       "  <thead>\n",
       "    <tr style=\"text-align: right;\">\n",
       "      <th></th>\n",
       "      <th>0</th>\n",
       "      <th>1</th>\n",
       "    </tr>\n",
       "  </thead>\n",
       "  <tbody>\n",
       "    <tr>\n",
       "      <th>0</th>\n",
       "      <td>0.496971</td>\n",
       "      <td>0.507154</td>\n",
       "    </tr>\n",
       "    <tr>\n",
       "      <th>1</th>\n",
       "      <td>0.532187</td>\n",
       "      <td>0.467610</td>\n",
       "    </tr>\n",
       "    <tr>\n",
       "      <th>2</th>\n",
       "      <td>0.567913</td>\n",
       "      <td>0.406331</td>\n",
       "    </tr>\n",
       "    <tr>\n",
       "      <th>3</th>\n",
       "      <td>0.249984</td>\n",
       "      <td>0.775443</td>\n",
       "    </tr>\n",
       "    <tr>\n",
       "      <th>4</th>\n",
       "      <td>0.655321</td>\n",
       "      <td>0.330115</td>\n",
       "    </tr>\n",
       "    <tr>\n",
       "      <th>...</th>\n",
       "      <td>...</td>\n",
       "      <td>...</td>\n",
       "    </tr>\n",
       "    <tr>\n",
       "      <th>49995</th>\n",
       "      <td>0.584868</td>\n",
       "      <td>0.402774</td>\n",
       "    </tr>\n",
       "    <tr>\n",
       "      <th>49996</th>\n",
       "      <td>0.432719</td>\n",
       "      <td>0.583828</td>\n",
       "    </tr>\n",
       "    <tr>\n",
       "      <th>49997</th>\n",
       "      <td>0.585091</td>\n",
       "      <td>0.396392</td>\n",
       "    </tr>\n",
       "    <tr>\n",
       "      <th>49998</th>\n",
       "      <td>0.428784</td>\n",
       "      <td>0.593593</td>\n",
       "    </tr>\n",
       "    <tr>\n",
       "      <th>49999</th>\n",
       "      <td>0.182511</td>\n",
       "      <td>0.825307</td>\n",
       "    </tr>\n",
       "  </tbody>\n",
       "</table>\n",
       "<p>50000 rows × 2 columns</p>\n",
       "</div>"
      ],
      "text/plain": [
       "              0         1\n",
       "0      0.496971  0.507154\n",
       "1      0.532187  0.467610\n",
       "2      0.567913  0.406331\n",
       "3      0.249984  0.775443\n",
       "4      0.655321  0.330115\n",
       "...         ...       ...\n",
       "49995  0.584868  0.402774\n",
       "49996  0.432719  0.583828\n",
       "49997  0.585091  0.396392\n",
       "49998  0.428784  0.593593\n",
       "49999  0.182511  0.825307\n",
       "\n",
       "[50000 rows x 2 columns]"
      ]
     },
     "execution_count": 15,
     "metadata": {},
     "output_type": "execute_result"
    }
   ],
   "source": [
    "pd.DataFrame(preds)"
   ]
  },
  {
   "cell_type": "code",
   "execution_count": 16,
   "id": "140a97f5-48ec-4582-a3a7-a5ef3623378e",
   "metadata": {
    "execution": {
     "iopub.execute_input": "2024-07-02T07:39:46.539756Z",
     "iopub.status.busy": "2024-07-02T07:39:46.539522Z",
     "iopub.status.idle": "2024-07-02T07:39:46.575177Z",
     "shell.execute_reply": "2024-07-02T07:39:46.574236Z",
     "shell.execute_reply.started": "2024-07-02T07:39:46.539737Z"
    }
   },
   "outputs": [
    {
     "data": {
      "text/html": [
       "<div>\n",
       "<style scoped>\n",
       "    .dataframe tbody tr th:only-of-type {\n",
       "        vertical-align: middle;\n",
       "    }\n",
       "\n",
       "    .dataframe tbody tr th {\n",
       "        vertical-align: top;\n",
       "    }\n",
       "\n",
       "    .dataframe thead th {\n",
       "        text-align: right;\n",
       "    }\n",
       "</style>\n",
       "<table border=\"1\" class=\"dataframe\">\n",
       "  <thead>\n",
       "    <tr style=\"text-align: right;\">\n",
       "      <th></th>\n",
       "      <th>id</th>\n",
       "      <th>fake</th>\n",
       "      <th>real</th>\n",
       "    </tr>\n",
       "  </thead>\n",
       "  <tbody>\n",
       "    <tr>\n",
       "      <th>0</th>\n",
       "      <td>TEST_00000</td>\n",
       "      <td>0</td>\n",
       "      <td>0</td>\n",
       "    </tr>\n",
       "    <tr>\n",
       "      <th>1</th>\n",
       "      <td>TEST_00001</td>\n",
       "      <td>0</td>\n",
       "      <td>0</td>\n",
       "    </tr>\n",
       "    <tr>\n",
       "      <th>2</th>\n",
       "      <td>TEST_00002</td>\n",
       "      <td>0</td>\n",
       "      <td>0</td>\n",
       "    </tr>\n",
       "    <tr>\n",
       "      <th>3</th>\n",
       "      <td>TEST_00003</td>\n",
       "      <td>0</td>\n",
       "      <td>0</td>\n",
       "    </tr>\n",
       "    <tr>\n",
       "      <th>4</th>\n",
       "      <td>TEST_00004</td>\n",
       "      <td>0</td>\n",
       "      <td>0</td>\n",
       "    </tr>\n",
       "    <tr>\n",
       "      <th>...</th>\n",
       "      <td>...</td>\n",
       "      <td>...</td>\n",
       "      <td>...</td>\n",
       "    </tr>\n",
       "    <tr>\n",
       "      <th>49995</th>\n",
       "      <td>TEST_49995</td>\n",
       "      <td>0</td>\n",
       "      <td>0</td>\n",
       "    </tr>\n",
       "    <tr>\n",
       "      <th>49996</th>\n",
       "      <td>TEST_49996</td>\n",
       "      <td>0</td>\n",
       "      <td>0</td>\n",
       "    </tr>\n",
       "    <tr>\n",
       "      <th>49997</th>\n",
       "      <td>TEST_49997</td>\n",
       "      <td>0</td>\n",
       "      <td>0</td>\n",
       "    </tr>\n",
       "    <tr>\n",
       "      <th>49998</th>\n",
       "      <td>TEST_49998</td>\n",
       "      <td>0</td>\n",
       "      <td>0</td>\n",
       "    </tr>\n",
       "    <tr>\n",
       "      <th>49999</th>\n",
       "      <td>TEST_49999</td>\n",
       "      <td>0</td>\n",
       "      <td>0</td>\n",
       "    </tr>\n",
       "  </tbody>\n",
       "</table>\n",
       "<p>50000 rows × 3 columns</p>\n",
       "</div>"
      ],
      "text/plain": [
       "               id  fake  real\n",
       "0      TEST_00000     0     0\n",
       "1      TEST_00001     0     0\n",
       "2      TEST_00002     0     0\n",
       "3      TEST_00003     0     0\n",
       "4      TEST_00004     0     0\n",
       "...           ...   ...   ...\n",
       "49995  TEST_49995     0     0\n",
       "49996  TEST_49996     0     0\n",
       "49997  TEST_49997     0     0\n",
       "49998  TEST_49998     0     0\n",
       "49999  TEST_49999     0     0\n",
       "\n",
       "[50000 rows x 3 columns]"
      ]
     },
     "execution_count": 16,
     "metadata": {},
     "output_type": "execute_result"
    }
   ],
   "source": [
    "submit = pd.read_csv(os.path.join(CONFIG.ROOT_FOLDER,'sample_submission.csv'))\n",
    "submit"
   ]
  },
  {
   "cell_type": "code",
   "execution_count": 17,
   "id": "37180693-d787-4a5e-a3ad-3ec72d6d36ed",
   "metadata": {
    "execution": {
     "iopub.execute_input": "2024-07-02T07:39:46.576470Z",
     "iopub.status.busy": "2024-07-02T07:39:46.576217Z",
     "iopub.status.idle": "2024-07-02T07:39:46.626969Z",
     "shell.execute_reply": "2024-07-02T07:39:46.625916Z",
     "shell.execute_reply.started": "2024-07-02T07:39:46.576450Z"
    }
   },
   "outputs": [
    {
     "data": {
      "text/html": [
       "<div>\n",
       "<style scoped>\n",
       "    .dataframe tbody tr th:only-of-type {\n",
       "        vertical-align: middle;\n",
       "    }\n",
       "\n",
       "    .dataframe tbody tr th {\n",
       "        vertical-align: top;\n",
       "    }\n",
       "\n",
       "    .dataframe thead th {\n",
       "        text-align: right;\n",
       "    }\n",
       "</style>\n",
       "<table border=\"1\" class=\"dataframe\">\n",
       "  <thead>\n",
       "    <tr style=\"text-align: right;\">\n",
       "      <th></th>\n",
       "      <th>id</th>\n",
       "      <th>fake</th>\n",
       "      <th>real</th>\n",
       "    </tr>\n",
       "  </thead>\n",
       "  <tbody>\n",
       "    <tr>\n",
       "      <th>0</th>\n",
       "      <td>TEST_00000</td>\n",
       "      <td>0.496971</td>\n",
       "      <td>0.507154</td>\n",
       "    </tr>\n",
       "    <tr>\n",
       "      <th>1</th>\n",
       "      <td>TEST_00001</td>\n",
       "      <td>0.532187</td>\n",
       "      <td>0.467610</td>\n",
       "    </tr>\n",
       "    <tr>\n",
       "      <th>2</th>\n",
       "      <td>TEST_00002</td>\n",
       "      <td>0.567913</td>\n",
       "      <td>0.406331</td>\n",
       "    </tr>\n",
       "    <tr>\n",
       "      <th>3</th>\n",
       "      <td>TEST_00003</td>\n",
       "      <td>0.249984</td>\n",
       "      <td>0.775443</td>\n",
       "    </tr>\n",
       "    <tr>\n",
       "      <th>4</th>\n",
       "      <td>TEST_00004</td>\n",
       "      <td>0.655321</td>\n",
       "      <td>0.330115</td>\n",
       "    </tr>\n",
       "  </tbody>\n",
       "</table>\n",
       "</div>"
      ],
      "text/plain": [
       "           id      fake      real\n",
       "0  TEST_00000  0.496971  0.507154\n",
       "1  TEST_00001  0.532187  0.467610\n",
       "2  TEST_00002  0.567913  0.406331\n",
       "3  TEST_00003  0.249984  0.775443\n",
       "4  TEST_00004  0.655321  0.330115"
      ]
     },
     "execution_count": 17,
     "metadata": {},
     "output_type": "execute_result"
    }
   ],
   "source": [
    "submit.iloc[:, 1:] = preds\n",
    "submit.head()"
   ]
  },
  {
   "cell_type": "code",
   "execution_count": 18,
   "id": "dd024804-142c-4d9f-bf64-c7f2cbac29bf",
   "metadata": {
    "execution": {
     "iopub.execute_input": "2024-07-02T07:39:46.628426Z",
     "iopub.status.busy": "2024-07-02T07:39:46.628187Z",
     "iopub.status.idle": "2024-07-02T07:39:46.824285Z",
     "shell.execute_reply": "2024-07-02T07:39:46.823235Z",
     "shell.execute_reply.started": "2024-07-02T07:39:46.628406Z"
    }
   },
   "outputs": [],
   "source": [
    "submit.to_csv('./baseline_submit.csv', index=False)"
   ]
  }
 ],
 "metadata": {
  "kernelspec": {
   "display_name": "Python 3 (ipykernel)",
   "language": "python",
   "name": "python3"
  },
  "language_info": {
   "codemirror_mode": {
    "name": "ipython",
    "version": 3
   },
   "file_extension": ".py",
   "mimetype": "text/x-python",
   "name": "python",
   "nbconvert_exporter": "python",
   "pygments_lexer": "ipython3",
   "version": "3.10.12"
  }
 },
 "nbformat": 4,
 "nbformat_minor": 5
}
